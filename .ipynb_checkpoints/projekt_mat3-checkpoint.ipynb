{
 "cells": [
  {
   "cell_type": "markdown",
   "id": "1486a5cf",
   "metadata": {},
   "source": [
    "\n",
    "Celem projektu jest analiza danych dotyczących udaru mózgu, znajdujących się w pliku `healthcare-dataset-stroke-data.csv`. Wyniki należy przedstawić w formie  raportu (RMarkdown, Jupyter, etc.) zawierającego kod programu jak i opisy dokonywanych decyzji. Analiza powinna zawierać co najmniej następujące punkty:\n",
    "\n",
    "1. Czyszczenie danych (usuwanie/inputacja braków danych, naprawa błędów, transformacje danych, rozwiązanie problemu wartości odstających)\n",
    "2. Eksploracyjna analiza danych\n",
    "3. Zamodelowanie zmiennej `stroke` na podstawie pozostałych zmiennych. Minimum 3 modele.\n",
    "4. Ewaluacja na zbiorze testowym (wybór modelu i metryk z uzasadnieniem)\n",
    "\n",
    "Możliwe jest rozwiązaniem w języku R lub Python. Rozwiązania wysłać do 24.01.2022 na adres mailowy: michalmaj116@gmail.com z tytułem \"studia podyplomowe\"\n"
   ]
  },
  {
   "cell_type": "markdown",
   "id": "3c2e0d3b",
   "metadata": {},
   "source": [
    "# 1. Importy"
   ]
  },
  {
   "cell_type": "code",
   "execution_count": null,
   "id": "9498c61e",
   "metadata": {},
   "outputs": [],
   "source": [
    "import pandas as pd\n",
    "import numpy as np\n",
    "import matplotlib.pyplot as plt\n",
    "import seaborn as sns\n",
    "import sklearn\n",
    "#from sklearn.impute import SimpleImputer\n",
    "#from sklearn.impute import KNNImputer\n",
    "from sklearn.preprocessing import OneHotEncoder\n",
    "#from sklearn.preprocessing import StandardScaler\n",
    "from sklearn.preprocessing import MinMaxScaler\n",
    "\n",
    "#from sklearn.linear_model import LinearRegression\n",
    "from sklearn.model_selection import train_test_split\n",
    "from sklearn.linear_model import LogisticRegression\n",
    "from sklearn.metrics import f1_score, roc_curve, auc\n",
    "\n",
    "from imblearn.pipeline import Pipeline\n",
    "from sklearn.compose import ColumnTransformer\n",
    "from sklearn.model_selection import cross_val_score\n",
    "from sklearn.model_selection import RepeatedStratifiedKFold, GridSearchCV\n",
    "from sklearn.tree import DecisionTreeClassifier\n",
    "from sklearn.ensemble import RandomForestClassifier\n",
    "from sklearn.ensemble import GradientBoostingClassifier\n",
    "from sklearn.ensemble import BaggingClassifier, AdaBoostClassifier \n",
    "from imblearn.over_sampling import SMOTE\n",
    "from sklearn.neighbors import KNeighborsClassifier, LocalOutlierFactor\n",
    "from sklearn.svm import SVC\n",
    "from sklearn.metrics import accuracy_score, confusion_matrix\n"
   ]
  },
  {
   "cell_type": "markdown",
   "id": "70a5f190",
   "metadata": {},
   "source": [
    "# 2. Wczytanie danych"
   ]
  },
  {
   "cell_type": "code",
   "execution_count": null,
   "id": "cdbc5e6b",
   "metadata": {},
   "outputs": [],
   "source": [
    "data_student = pd.read_csv(\"data/mat2.csv\", comment=\"#\", sep=',')\n",
    "data_student.head()"
   ]
  },
  {
   "cell_type": "markdown",
   "id": "b16772cd",
   "metadata": {},
   "source": [
    "# 3. Zrozumienie danych\n",
    "### Zbiór danych\n",
    "https://www.kaggle.com/datasets/henryshan/student-performance-prediction\n",
    "\n",
    "Dane te dotyczą osiągnięć uczniów w szkołach średnich w dwóch portugalskich szkołach . Atrybuty danych obejmują oceny uczniów, cechy demograficzne, społeczne i związane ze szkołą. Zebrano je przy użyciu raportów szkolnych i kwestionariuszy.\n",
    "\n",
    "Udostępniono dwa zbiory danych dotyczące wyników z dwóch odrębnych przedmiotów: matematyki (mat.csv) i języka portugalskiego (por.csv) . W [Cortez i Silva, 2008] oba zbiory danych modelowano w ramach zadań klasyfikacji i regresji binarnej/pięciopoziomowej.\n",
    "\n",
    "Przeanalizuję dane dotyczące matematyki.\n",
    "\n",
    "Skala ocen:\n",
    "\n",
    "0-9 - niedostatecznie\n",
    "10-17 - dost, db\n",
    "18-19, 20 - bdb, cel\n",
    "\n",
    "\n",
    "- **School**: szkoła ucznia (binarnie: „GP” – Gabriel Pereira lub „MS” – Mousinho da Silveira)\n",
    "\n",
    "- **Sex** : płeć ucznia (binarnie: „F” – kobieta lub „M” – mężczyzna\n",
    "\n",
    "- **Age** : wiek ucznia (numeryczny: od 15 do 22 lat)\n",
    "\n",
    "- **address**: typ adresu domowego ucznia (binarnie: „U” – miejski lub „R” – wiejski)\n",
    "\n",
    "- **famsize**: wielkość rodziny (binarnie: „LE3” – mniejsza lub równa 3 lub „GT3” – większa niż 3)\n",
    "\n",
    "- **Pstatus**: status konkubinacyjny rodziców (binarnie: „T” – mieszkający razem lub „A” – osobno)\n",
    "\n",
    "- **Medu**: wykształcenie matki (liczba: 0 – brak, 1 – wykształcenie podstawowe (IV klasa), 2 – V–IX klasa, 3 – wykształcenie średnie lub 4 – wykształcenie wyższe)\n",
    "\n",
    "- **Fedu**: wykształcenie ojca (liczba: 0 – brak, 1 – wykształcenie podstawowe (IV klasa), 2 – V–IX klasa, 3 – wykształcenie średnie lub 4 – wykształcenie wyższe)\n",
    "\n",
    "- **Mjob**: zawód matki (nominalny: „nauczyciel”, „związany ze służbą zdrowia”, „służby cywilne” (np. administracja lub policja), „w_domu” lub „inny”)\n",
    "\n",
    "- **Fjob**: zawód ojca (nominalny: „nauczyciel”, „służba zdrowia”, „służba” cywilna (np. administracja lub policja), „w_domu” lub „inny”)\n",
    "\n",
    "- **reason**: powód, aby wybrać tę szkołę (nominalny: blisko „domu”, „reputacja szkoły”, „preferowany kurs” lub „inny”)\n",
    "\n",
    "- **guardian**: opiekun ucznia (nominalny: „matka”, „ojciec” lub „inny”)\n",
    "\n",
    "- **traveltime**: czas dojazdu z domu do szkoły (liczbowo: 1–<15 min., 2–15 do 30 min., 3–30 min. do 1 godziny lub 4–>1 godzina)\n",
    "\n",
    "- **studytime**: tygodniowy czas nauki (liczbowo: 1–<2 godziny, 2–2 do 5 godzin, 3–5 do 10 godzin lub 4–>10 godzin)\n",
    "\n",
    "- **failures**: liczba przeszłych niepowodzeń klas (liczbowa: n jeśli 1<=n<3, w przeciwnym razie 4)\n",
    "\n",
    "- **schoolsup**: dodatkowe wsparcie edukacyjne (binarne: tak lub nie)\n",
    "\n",
    "- **famsup**: rodzinne wsparcie edukacyjne (binarne: tak lub nie)\n",
    "\n",
    "- **paid**: dodatkowe płatne zajęcia w ramach przedmiotu kursu (matematyka lub portugalski) (binarnie: tak lub nie)\n",
    "\n",
    "- **activities**: zajęcia pozalekcyjne (binarne: tak lub nie)\n",
    "\n",
    "- **nursery**: uczęszczał do przedszkola (binarnie: tak lub nie)\n",
    "\n",
    "- **higher**: chce podjąć studia wyższe (binarnie: tak lub nie)\n",
    "\n",
    "- **internet**:Dostęp do Internetu w domu (binarnie: tak lub nie)\n",
    "\n",
    "- **romantic**:w związku romantycznym (binarnie: tak lub nie)\n",
    "\n",
    "- **famrel**: jakość relacji rodzinnych (liczbowo: od 1 – bardzo zła do 5 – doskonała)\n",
    "\n",
    "- **freetime**: czas wolny po szkole (liczbowo: od 1 – bardzo niska do 5 – bardzo wysoka)\n",
    "\n",
    "- **goout**: wyjście z przyjaciółmi (liczba: od 1 - bardzo niska do 5 - bardzo wysoka)\n",
    "\n",
    "- **Dalc**: spożycie alkoholu w ciągu dnia roboczego (liczbowe: od 1 – bardzo niskie do 5 – bardzo wysokie)\n",
    "\n",
    "- **Walc**: weekendowe spożycie alkoholu (liczbowe: od 1 – bardzo niskie do 5 – bardzo wysokie)\n",
    "\n",
    "- **health**: aktualny stan zdrowia (numeryczny: od 1 – bardzo zły do 5 – bardzo dobry)\n",
    "\n",
    "- **absence**: liczba nieobecności w szkole (numeryczna: od 0 do 93)\n",
    "\n",
    "- **G1**: ocena z pierwszego okresu (numeryczna: od 0 do 20)\n",
    "\n",
    "- **G2**: ocena z drugiego okresu (numeryczna: od 0 do 20)\n",
    "\n",
    "- **G3**: ocena końcowa (numeryczna: od 0 do 20, cel wyjściowy)\n",
    "\n",
    "\n"
   ]
  },
  {
   "cell_type": "code",
   "execution_count": null,
   "id": "9071eaa3",
   "metadata": {},
   "outputs": [],
   "source": [
    "# sprawdzam brakujące dane, i kategorie danych\n",
    "type(data_student)\n",
    "data_student.shape\n",
    "data_student.columns\n",
    "data_student.info()\n"
   ]
  },
  {
   "cell_type": "code",
   "execution_count": null,
   "id": "68d14dac",
   "metadata": {},
   "outputs": [],
   "source": [
    "#pozmieniam zmienne objekt na category - jednak nie będę zmieniać\n",
    "#data_student.school = data_student.school.astype('category')\n",
    "#data_student.sex = data_student.sex.astype('category')\n",
    "#data_student.address = data_student.address.astype('category')\n",
    "#data_student.famsize = data_student.famsize.astype('category')\n",
    "#data_student.Pstatus = data_student.Pstatus.astype('category')\n",
    "#data_student.Mjob = data_student.Mjob.astype('category')\n",
    "#data_student.Fjob = data_student.Fjob.astype('category')\n",
    "#data_student.reason = data_student.reason.astype('category')\n",
    "#data_student.guardian = data_student.guardian.astype('category')\n",
    "#data_student.schoolsup = data_student.schoolsup.astype('category')\n",
    "#data_student.famsup = data_student.famsup.astype('category')\n",
    "#data_student.paid = data_student.paid.astype('category')\n",
    "#data_student.activities = data_student.activities.astype('category')\n",
    "#data_student.nursery = data_student.nursery.astype('category')\n",
    "#data_student.romantic = data_student.romantic.astype('category')"
   ]
  },
  {
   "cell_type": "code",
   "execution_count": null,
   "id": "8b872a9f",
   "metadata": {},
   "outputs": [],
   "source": [
    "num_cols = ['age', 'Medu', 'Fedu', 'traveltime', 'studytime', 'failures', 'famrel', 'freetime', 'goout',\n",
    "            'Dalc', 'Walc', 'health', 'absences', 'G1', 'G2', 'G3']\n",
    "cat_cols = ['school', 'sex', 'address', 'famsize', 'Pstatus', 'Mjob', 'Fjob', 'reason', 'guardian', 'schoolsup', \n",
    "            'famsup', 'paid', 'activities', 'nursery', 'romantic']"
   ]
  },
  {
   "cell_type": "markdown",
   "id": "0b99bf9f",
   "metadata": {},
   "source": [
    "### Przygotowanie danych"
   ]
  },
  {
   "cell_type": "code",
   "execution_count": null,
   "id": "f4bd8019",
   "metadata": {},
   "outputs": [],
   "source": [
    "#usunięcie kolumny unnamed0 - nic nie wnosi\n",
    "data_student.drop('Unnamed: 0', axis=1, inplace=True)\n",
    "data_student.head()"
   ]
  },
  {
   "cell_type": "markdown",
   "id": "65772494",
   "metadata": {},
   "source": [
    "#KODOWANIE ZMIENNYCH KATEGORYCZNYCH\n",
    "encoder = OneHotEncoder()\n",
    "transformed_data = encoder.fit_transform(data_student[cat_cols])\n",
    "print(transformed_data.toarray())"
   ]
  },
  {
   "cell_type": "markdown",
   "id": "44524476",
   "metadata": {},
   "source": [
    "#NORMALIZACJA ZMIENNYCH\n",
    "scaler = MinMaxScaler()\n",
    "\n",
    "# Dopasowanie skalera do danych i wykonanie transformacji\n",
    "data_student_normalized = scaler.fit_transform(data_student[num_cols])\n",
    "print(data_student_normalized)"
   ]
  },
  {
   "cell_type": "code",
   "execution_count": null,
   "id": "3c59ffbb",
   "metadata": {},
   "outputs": [],
   "source": [
    "#poznaje kolejne kolumny nietypowe\n",
    "data_student.groupby('school').count()\n",
    "#nierówność duża między dwiema rodzajami szkół"
   ]
  },
  {
   "cell_type": "code",
   "execution_count": null,
   "id": "68b63324",
   "metadata": {},
   "outputs": [],
   "source": [
    "data_student.groupby('sex').count()"
   ]
  },
  {
   "cell_type": "code",
   "execution_count": null,
   "id": "abeeeb26",
   "metadata": {},
   "outputs": [],
   "source": [
    "data_student.groupby('address').count()\n",
    "#głównie miejskie"
   ]
  },
  {
   "cell_type": "code",
   "execution_count": null,
   "id": "c3ff388b",
   "metadata": {},
   "outputs": [],
   "source": [
    "data_student.groupby('famsize').count()"
   ]
  },
  {
   "cell_type": "code",
   "execution_count": null,
   "id": "1295c466",
   "metadata": {},
   "outputs": [],
   "source": [
    "data_student.groupby('Pstatus').count()\n",
    "#A - rodzice mieszkający osobno"
   ]
  },
  {
   "cell_type": "code",
   "execution_count": null,
   "id": "91a1e894",
   "metadata": {},
   "outputs": [],
   "source": [
    "data_student.groupby('Mjob').count()"
   ]
  },
  {
   "cell_type": "code",
   "execution_count": null,
   "id": "3d154703",
   "metadata": {},
   "outputs": [],
   "source": [
    "data_student.groupby('Fjob').count()"
   ]
  },
  {
   "cell_type": "code",
   "execution_count": null,
   "id": "38a0278a",
   "metadata": {},
   "outputs": [],
   "source": [
    "data_student.groupby('reason').count()"
   ]
  },
  {
   "cell_type": "code",
   "execution_count": null,
   "id": "b9de7f2d",
   "metadata": {},
   "outputs": [],
   "source": [
    "data_student.groupby('guardian').count()\n",
    "#opiekun ucznia"
   ]
  },
  {
   "cell_type": "code",
   "execution_count": null,
   "id": "15ed7b2e",
   "metadata": {},
   "outputs": [],
   "source": [
    "data_student.groupby('schoolsup').count()\n",
    "#dodatkowe wsparcie edukacyjne"
   ]
  },
  {
   "cell_type": "code",
   "execution_count": null,
   "id": "df07f5c9",
   "metadata": {},
   "outputs": [],
   "source": [
    "data_student.groupby('famsup').count()\n",
    "#dodatkowe wsparcie edukacyjne - w rodzinie"
   ]
  },
  {
   "cell_type": "code",
   "execution_count": null,
   "id": "3fbe92e4",
   "metadata": {},
   "outputs": [],
   "source": [
    "data_student.groupby('paid').count()\n",
    "#dodatkowe wsparcie edukacyjne - płatne zajęcia"
   ]
  },
  {
   "cell_type": "code",
   "execution_count": null,
   "id": "0791a76f",
   "metadata": {},
   "outputs": [],
   "source": [
    "data_student.groupby('activities').count()\n",
    "# zajęcia pozalekcyjne"
   ]
  },
  {
   "cell_type": "code",
   "execution_count": null,
   "id": "13493f03",
   "metadata": {},
   "outputs": [],
   "source": [
    "data_student.groupby('nursery').count()\n",
    "#przedszkole"
   ]
  },
  {
   "cell_type": "code",
   "execution_count": null,
   "id": "76d94f84",
   "metadata": {},
   "outputs": [],
   "source": [
    "data_student.groupby('romantic').count()\n",
    "#zwiazek"
   ]
  },
  {
   "cell_type": "code",
   "execution_count": null,
   "id": "10934fe2",
   "metadata": {},
   "outputs": [],
   "source": [
    "#sprawdzam wartości zmiennej celu - chyba bym pogrupowała w jakieś wartości ocen????\n",
    "\n",
    "counts = data_student['G3'].value_counts()\n",
    "percentages = counts / counts.sum() * 100\n",
    "\n",
    "plt.bar(percentages.index, percentages.values) \n",
    "plt.title('G3 Column')\n",
    "plt.xlabel('G3')\n",
    "plt.ylabel('Percentage')\n",
    "plt.show()\n"
   ]
  },
  {
   "cell_type": "code",
   "execution_count": null,
   "id": "e3f18396",
   "metadata": {},
   "outputs": [],
   "source": [
    "#badam zmienne numeryczne\n",
    "data_student.describe()"
   ]
  },
  {
   "cell_type": "code",
   "execution_count": null,
   "id": "1173928a",
   "metadata": {},
   "outputs": [],
   "source": []
  },
  {
   "cell_type": "code",
   "execution_count": null,
   "id": "ddae56ab",
   "metadata": {},
   "outputs": [],
   "source": []
  },
  {
   "cell_type": "markdown",
   "id": "99078c60",
   "metadata": {},
   "source": [
    "# 4. Outliery \n",
    "\n"
   ]
  },
  {
   "cell_type": "code",
   "execution_count": null,
   "id": "d858a9e2",
   "metadata": {},
   "outputs": [],
   "source": [
    "#Szukam outlierów metodą z_scores\n",
    "data_student_imputed = pd.DataFrame(data_student, columns=num_cols)\n",
    "\n",
    "means = np.mean(data_student_imputed, axis=0)\n",
    "sds = np.std(data_student_imputed, axis=0)\n",
    "z_scores = np.abs(data_student_imputed - means) / sds\n",
    "outliers = np.where(z_scores > 3)\n",
    "\n",
    "print(outliers)"
   ]
  },
  {
   "cell_type": "code",
   "execution_count": null,
   "id": "95b2be4e",
   "metadata": {},
   "outputs": [],
   "source": [
    "data_student_imputed.iloc[outliers[0][outliers[1] >= 3]]"
   ]
  },
  {
   "cell_type": "code",
   "execution_count": null,
   "id": "95b0fcae",
   "metadata": {},
   "outputs": [],
   "source": [
    "### usunąć outliery"
   ]
  },
  {
   "cell_type": "code",
   "execution_count": null,
   "id": "d52c58ed",
   "metadata": {},
   "outputs": [],
   "source": [
    "for col in num_cols:\n",
    "    fig, (ax1, ax2) = plt.subplots(ncols=2, figsize=(18, 5))\n",
    "    sns.histplot(data=data_student, x=col, hue='G3', kde=True, ax=ax1)\n",
    "    sns.boxplot(data=data_student, x='G3', y=col, ax=ax2)\n",
    "    fig.suptitle(f'{col} by G3', fontsize=14)\n",
    "    plt.show()"
   ]
  },
  {
   "cell_type": "code",
   "execution_count": null,
   "id": "cf663b3d",
   "metadata": {},
   "outputs": [],
   "source": [
    "# Co ja tu widzę???\n",
    "#wiek - wraz z wiekiem wzrasta ilość udarów - od 40, średnio 42+, pojeynczy wynik poniżej 20 (może się zdarzyć)\n",
    "#glukoza - nie widzę szczególnego związku\n",
    "#bmi - nie wiem co widać???"
   ]
  },
  {
   "cell_type": "markdown",
   "id": "67b26de0",
   "metadata": {},
   "source": [
    "# 5. Korelacja"
   ]
  },
  {
   "cell_type": "code",
   "execution_count": null,
   "id": "cdb51b2f",
   "metadata": {},
   "outputs": [],
   "source": [
    "corr_P = data_student.corr(\"pearson\", numeric_only=True)\n",
    "corr_P.shape"
   ]
  },
  {
   "cell_type": "code",
   "execution_count": null,
   "id": "abc7cd02",
   "metadata": {},
   "outputs": [],
   "source": [
    "corr_P"
   ]
  },
  {
   "cell_type": "code",
   "execution_count": null,
   "id": "08c63928",
   "metadata": {},
   "outputs": [],
   "source": [
    "corr_P_tri = corr_P.where(np.triu(np.ones(corr_P.shape, dtype=bool), k=1)).stack().sort_values()\n",
    "corr_P_tri"
   ]
  },
  {
   "cell_type": "code",
   "execution_count": null,
   "id": "cb8292b4",
   "metadata": {},
   "outputs": [],
   "source": [
    "corr_P_tri[abs(corr_P_tri)>0.4]"
   ]
  },
  {
   "cell_type": "code",
   "execution_count": null,
   "id": "cb098e80",
   "metadata": {},
   "outputs": [],
   "source": [
    "#Sprawdzam ewentualną korelację \n",
    "plt.figure(figsize = (14,14))\n",
    "plt.title(\"Correlation between different features of the dataset\", fontsize = 16)\n",
    "sns.heatmap(data_student.corr(numeric_only = True), cmap = 'coolwarm', annot = True)\n",
    "plt.xticks(fontsize=12, rotation = 90)\n",
    "plt.yticks(fontsize=12, rotation = 90)\n",
    "plt.legend(fontsize=12)\n",
    "\n"
   ]
  },
  {
   "cell_type": "code",
   "execution_count": null,
   "id": "d9b7dc26",
   "metadata": {},
   "outputs": [],
   "source": [
    "#data_numeric = data_student.loc[:, num_cols]\n",
    "#sns.pairplot(data_numeric, hue = \"G3\", diag_kind = \"kde\")\n",
    "#plt.show()"
   ]
  },
  {
   "cell_type": "markdown",
   "id": "ccf3cf3b",
   "metadata": {},
   "source": [
    "G1, G2 z G3\n",
    "Fedu z Medu\n",
    "Walz z Malz\n",
    "Walc z GOout\n"
   ]
  },
  {
   "cell_type": "code",
   "execution_count": null,
   "id": "af9474be",
   "metadata": {},
   "outputs": [],
   "source": [
    "#usuwam kolunmy g1, g2,\n",
    "# z kol Medu i Pedu zrobię średnią\n",
    "#z kol Walc i Dalc zrobię średnią\n"
   ]
  },
  {
   "cell_type": "code",
   "execution_count": null,
   "id": "c4775d7b",
   "metadata": {},
   "outputs": [],
   "source": [
    "#usuwam kolunmy g1, g2 - są silnie skorelowane z G3"
   ]
  },
  {
   "cell_type": "code",
   "execution_count": null,
   "id": "3b0d2bde",
   "metadata": {},
   "outputs": [],
   "source": [
    "data_student.drop(columns='G1', inplace=True)\n",
    "data_student.drop(columns='G2', inplace=True)\n",
    "data_student.head()"
   ]
  },
  {
   "cell_type": "code",
   "execution_count": null,
   "id": "e40d8ba2",
   "metadata": {},
   "outputs": [],
   "source": [
    "#z kol Medu i Fedu zrobię średnią - wtedy otrzymam średnią miedzy wykształceniem rodziców\n",
    "#z kol Walc i Dalc zrobię średnią - średnią picia alkoholu w tygodniu\n",
    "# i usunę kolumny Medu i Fedu, Walc i Dalc"
   ]
  },
  {
   "cell_type": "code",
   "execution_count": null,
   "id": "b79cec81",
   "metadata": {},
   "outputs": [],
   "source": [
    "data_student['F&Medu'] = data_student.apply(lambda row: row['Fedu']*row['Medu']/2, axis = 1)\n",
    "data_student['alc'] = data_student.apply(lambda row: row['Walc']*row['Dalc']/2, axis = 1)\n",
    "data_student.drop(columns='Fedu', inplace=True)\n",
    "data_student.drop(columns='Medu', inplace=True)\n",
    "data_student.drop(columns='Walc', inplace=True)\n",
    "data_student.drop(columns='Dalc', inplace=True)"
   ]
  },
  {
   "cell_type": "code",
   "execution_count": null,
   "id": "f076b663",
   "metadata": {},
   "outputs": [],
   "source": [
    "data_student.head()"
   ]
  },
  {
   "cell_type": "code",
   "execution_count": null,
   "id": "3172642a",
   "metadata": {},
   "outputs": [],
   "source": [
    "# przesunąć kolumny ostatnie przed G3"
   ]
  },
  {
   "cell_type": "markdown",
   "id": "c41ebd74",
   "metadata": {},
   "source": [
    "# 6. Wykresy"
   ]
  },
  {
   "cell_type": "code",
   "execution_count": null,
   "id": "b1f99f2c",
   "metadata": {},
   "outputs": [],
   "source": [
    "# definiuję na nowo cat_cols, i num_cols\n",
    "num_cols = ['age', 'F&Medu', 'traveltime', 'studytime', 'failures', 'famrel', 'freetime', 'goout',\n",
    "            'alc', 'health', 'absences', 'G3']\n",
    "cat_cols = ['school', 'sex', 'address', 'famsize', 'Pstatus', 'Mjob', 'Fjob', 'reason', 'guardian', 'schoolsup', \n",
    "            'famsup', 'paid', 'activities', 'nursery', 'romantic']"
   ]
  },
  {
   "cell_type": "code",
   "execution_count": null,
   "id": "d388d7fb",
   "metadata": {},
   "outputs": [],
   "source": [
    "def generate_plots_and_tables_by_tagret(df: pd.DataFrame, target_column: str = \"DefFlag\",\n",
    "                                        num_cols: list = [], cat_cols: list = []) -> None:\n",
    "    \"\"\"\n",
    "    Generate plots of the 'target_column' column with other columns in a pandas dataframe.\n",
    "    If a column is a string or factor, a bar plot with grouping by 'target_column' will be created.\n",
    "    If a column is continuous, a histogram, boxplot, and scatter plot with grouping by 'target_column' will be created.\n",
    "    \"\"\"\n",
    "    for column in cat_cols:\n",
    "        print(column + \":\")\n",
    "        \n",
    "        plt.figure(figsize=(15, 6))\n",
    "            \n",
    "        counts = df.groupby([column, target_column], group_keys=True).size()\n",
    "        print(counts)\n",
    "        counts_norm = counts.groupby(level=0, group_keys=False).apply(lambda x: 100 * x / x.sum())\n",
    "        counts_norm = counts_norm.reset_index(name='percent')\n",
    "        sns.barplot(x=column, y='percent', hue=target_column, data=counts_norm)\n",
    "        plt.title(f\"'G3' vs '{column}'\")\n",
    "        plt.show()\n",
    "            \n",
    "    for column in num_cols:\n",
    "        \n",
    "        plt.figure(figsize=(12, 6))\n",
    "            \n",
    "        plt.subplot(1, 2, 1)\n",
    "        sns.histplot(x=column, hue=target_column, data=df, kde=True)\n",
    "        plt.title(f\"'G3' vs '{column}' (Histogram)\")\n",
    "            \n",
    "        plt.subplot(1, 2, 2)\n",
    "        sns.boxplot(x=target_column, y=column, data=df)\n",
    "        plt.title(f\"'G3' vs '{column}' (Boxplot)\")\n",
    "            \n",
    "        plt.tight_layout()\n",
    "        plt.show()"
   ]
  },
  {
   "cell_type": "code",
   "execution_count": null,
   "id": "6f38e3b7",
   "metadata": {},
   "outputs": [],
   "source": [
    "\n",
    "generate_plots_and_tables_by_tagret(data_student, 'G3', num_cols, cat_cols)"
   ]
  },
  {
   "cell_type": "code",
   "execution_count": null,
   "id": "44733047",
   "metadata": {},
   "outputs": [],
   "source": [
    "# jakie ja mam wnioski z tych wykresów???\n",
    "# może podziele oceny na grupy ocen i wtedy lepiej to zobaczę\n",
    "\n",
    "bins = pd.IntervalIndex.from_tuples([(data_student['G3'].min()-1, 10),(10, 14),(14, 18),(18, data_student['G3'].max()+1)])\n",
    "\n",
    "x = pd.cut(data_student['G3'].to_list(), bins)\n",
    "x.category = ['1', '2', '3', '4']\n",
    "\n",
    "data_student['oceny'] = x"
   ]
  },
  {
   "cell_type": "code",
   "execution_count": null,
   "id": "61892b2e",
   "metadata": {},
   "outputs": [],
   "source": [
    "def generate_plots_and_tables_by_tagret(df: pd.DataFrame, target_column: str = \"DefFlag\",\n",
    "                                        num_cols: list = [], cat_cols: list = []) -> None:\n",
    "    \"\"\"\n",
    "    Generate plots of the 'target_column' column with other columns in a pandas dataframe.\n",
    "    If a column is a string or factor, a bar plot with grouping by 'target_column' will be created.\n",
    "    If a column is continuous, a histogram, boxplot, and scatter plot with grouping by 'target_column' will be created.\n",
    "    \"\"\"\n",
    "    for column in cat_cols:\n",
    "        print(column + \":\")\n",
    "        \n",
    "        plt.figure(figsize=(5, 5))\n",
    "            \n",
    "        counts = df.groupby([column, target_column], group_keys=True).size()\n",
    "        print(counts)\n",
    "        counts_norm = counts.groupby(level=0, group_keys=False).apply(lambda x: 100 * x / x.sum())\n",
    "        counts_norm = counts_norm.reset_index(name='percent')\n",
    "        sns.barplot(x=column, y='percent', hue=target_column, data=counts_norm)\n",
    "        plt.title(f\"'oceny' vs '{column}'\")\n",
    "        plt.show()\n",
    "            \n",
    "    for column in num_cols:\n",
    "        \n",
    "        plt.figure(figsize=(16, 4))\n",
    "            \n",
    "        plt.subplot(1, 2, 1)\n",
    "        sns.histplot(x=column, hue=target_column, data=df, kde=True)\n",
    "        plt.title(f\"'oceny' vs '{column}' (Histogram)\")\n",
    "            \n",
    "        plt.subplot(1, 2, 2)\n",
    "        sns.boxplot(x=target_column, y=column, data=df)\n",
    "        plt.title(f\"'oceny' vs '{column}' (Boxplot)\")\n",
    "            \n",
    "        plt.tight_layout()\n",
    "        plt.show()"
   ]
  },
  {
   "cell_type": "code",
   "execution_count": null,
   "id": "3f8a32a8",
   "metadata": {},
   "outputs": [],
   "source": [
    "generate_plots_and_tables_by_tagret(data_student, 'oceny', num_cols, cat_cols)"
   ]
  },
  {
   "cell_type": "markdown",
   "id": "9608f450",
   "metadata": {},
   "source": [
    "Te wykresy sa czytelniejsze - wnioski - tylko usunmy outliery - czy da się zrobić żby liczyół procentowy udział\n",
    "szkoła - oceny - MS - ma więcej słabych ponad 60% niezaliczone, ale ma tez procentowy udział celujących ocen\n",
    "płeć - więcej słabych w grupie dziewcząt\n",
    "miejsce zamieszkania - więcej slabych w zamieszkaniu wiejskim - dojazd, dostęp do dodatkowych?\n",
    "wielkość rodziny - słabiej ywpadaja duże rodzinr\n",
    "status rodziny - rodzice mieszkający osobno lepiej wypadają\n",
    "praca matki - najgorzej gdy jest w domu, może się to wiązac z wykształceniem\n",
    "praca ojca - najlepiej gdy jest w domu\n",
    "powód wybrania szkoły - dobrze gdy ze względu na reoutacje - świadomi uczniowie\n",
    "opiekun - najgorzej gdy jest inny niż matka i ojciec\n",
    "wparcie szkoły - lepiej wypadaja uczniowie bez wsparcia - może dlatego że szkoła prowadzi zajęcia wspomagające dla słabszych uczniów\n",
    "wsparcie rodziny - nic\n",
    "płatne zajęcia - dla słabszych dają\n",
    "aktywności - nic\n",
    "nursery, romantic - nic\n",
    "age - starsi wiekowo raczej słabiej, pradopodobnie ze względu na powtarzzanie klas i ogólnie słabszość\n",
    "wykształcenie rodziców - im wyższe tym lepsze oceny i miej ocen niezaliczających\n",
    "failures - liczba niepowozeń, osoby wcześńiej niezdające w klasach teraz tez niezaliczają\n",
    "relacje rodzinne - ?\n",
    "alcohol - w grupie ocen najlepszych nie ma alco za dużo, ??\n",
    "zdrowie - osoby z lepszymi ocenami - słabiej oceniają zdrowie, \n"
   ]
  },
  {
   "cell_type": "markdown",
   "id": "5b4c20fa",
   "metadata": {},
   "source": [
    "# 7. Normalizacja zmiennych"
   ]
  },
  {
   "cell_type": "markdown",
   "id": "1bf8892f",
   "metadata": {},
   "source": [
    "# Tworzenie obiektu skaler\n",
    "scaler = MinMaxScaler()\n",
    "\n",
    "# Dopasowanie skalera do danych i wykonanie transformacji\n",
    "data_student_normalized1 = scaler.fit_transform(data_student[num_cols])\n",
    "print(data_student_normalized1)"
   ]
  },
  {
   "cell_type": "markdown",
   "id": "0673ebb1",
   "metadata": {},
   "source": [
    "# 8. Kodowanie zmiennych kategorycznych"
   ]
  },
  {
   "cell_type": "markdown",
   "id": "fa8f6f26",
   "metadata": {},
   "source": [
    "# inicjalizacja OneHotEncoder\n",
    "encoder = OneHotEncoder()\n",
    "\n",
    "# dopasowanie i transformacja danych\n",
    "transformed_data = encoder.fit_transform(data_student[cat_cols])\n",
    "\n",
    "# wyświetlenie wyników\n",
    "print(transformed_data.toarray())"
   ]
  },
  {
   "cell_type": "code",
   "execution_count": null,
   "id": "a191213b",
   "metadata": {},
   "outputs": [],
   "source": [
    "#pozmieniam zmienne objekt na category - jednak nie będę zmieniać\n",
    "data_student.school = data_student.school.astype('category')\n",
    "data_student.sex = data_student.sex.astype('category')\n",
    "data_student.address = data_student.address.astype('category')\n",
    "data_student.famsize = data_student.famsize.astype('category')\n",
    "data_student.Pstatus = data_student.Pstatus.astype('category')\n",
    "data_student.Mjob = data_student.Mjob.astype('category')\n",
    "data_student.Fjob = data_student.Fjob.astype('category')\n",
    "data_student.reason = data_student.reason.astype('category')\n",
    "data_student.guardian = data_student.guardian.astype('category')\n",
    "data_student.schoolsup = data_student.schoolsup.astype('category')\n",
    "data_student.famsup = data_student.famsup.astype('category')\n",
    "data_student.paid = data_student.paid.astype('category')\n",
    "data_student.activities = data_student.activities.astype('category')\n",
    "data_student.nursery = data_student.nursery.astype('category')\n",
    "data_student.romantic = data_student.romantic.astype('category')"
   ]
  },
  {
   "cell_type": "code",
   "execution_count": null,
   "id": "dd5aa725",
   "metadata": {},
   "outputs": [],
   "source": [
    "type(data_student)\n",
    "data_student.shape\n",
    "data_student.columns\n",
    "data_student.info()"
   ]
  },
  {
   "cell_type": "markdown",
   "id": "d51e3ee4",
   "metadata": {},
   "source": [
    "# 9. Tworzenie modeli\n"
   ]
  },
  {
   "cell_type": "code",
   "execution_count": null,
   "id": "f8920940",
   "metadata": {},
   "outputs": [],
   "source": [
    "data_student.columns"
   ]
  },
  {
   "cell_type": "code",
   "execution_count": null,
   "id": "207d197f",
   "metadata": {},
   "outputs": [],
   "source": [
    "data_student[\"oceny1\"] = pd.cut(data_student[\"G3\"],\n",
    "                         [-1, 10, 21],\n",
    "                         right=False, labels=[\"bad\", \"good\"])\n",
    "data_student[\"oceny1\"].value_counts()"
   ]
  },
  {
   "cell_type": "code",
   "execution_count": null,
   "id": "6b2fb417",
   "metadata": {},
   "outputs": [],
   "source": [
    "from sklearn.preprocessing import OrdinalEncoder\n",
    "\n",
    "oe = OrdinalEncoder(categories = [['bad', 'good']],\n",
    "                   handle_unknown = 'use_encoded_value',\n",
    "                   unknown_value = np.NaN)"
   ]
  },
  {
   "cell_type": "code",
   "execution_count": null,
   "id": "f551f59d",
   "metadata": {},
   "outputs": [],
   "source": [
    "X = data_student.loc[:,['age', 'F&Medu', 'traveltime', 'studytime', 'failures', 'famrel', 'freetime', 'goout',\n",
    "            'alc', 'health', 'absences']]\n",
    "y = data_student[\"oceny1\"]"
   ]
  },
  {
   "cell_type": "code",
   "execution_count": null,
   "id": "17f9c8ac",
   "metadata": {},
   "outputs": [],
   "source": [
    "oe.fit(np.asanyarray(y).reshape(-1, 1))\n",
    "yk = oe.transform(np.asanyarray(y).reshape(-1, 1)).flatten()"
   ]
  },
  {
   "cell_type": "code",
   "execution_count": null,
   "id": "8009efb5",
   "metadata": {},
   "outputs": [],
   "source": [
    "X"
   ]
  },
  {
   "cell_type": "code",
   "execution_count": null,
   "id": "f2dbd231",
   "metadata": {},
   "outputs": [],
   "source": [
    "idx_train, idx_test = sklearn.model_selection.train_test_split(np.arange(X.shape[0]),\n",
    "                                                             test_size=0.2,\n",
    "                                                             random_state=12345)\n",
    "X_train, X_test = X.iloc[idx_train, :], X.iloc[idx_test, :]\n",
    "y_train, y_test = y[idx_train], y[idx_test]\n",
    "yk_train, yk_test = yk[idx_train], yk[idx_test]\n",
    "\n",
    "X_train.shape, X_test.shape, y_train.shape, y_test.shape"
   ]
  },
  {
   "cell_type": "code",
   "execution_count": null,
   "id": "c9d93fd0",
   "metadata": {},
   "outputs": [],
   "source": [
    "data_student.oceny1.value_counts()"
   ]
  },
  {
   "cell_type": "code",
   "execution_count": null,
   "id": "961682cb",
   "metadata": {},
   "outputs": [],
   "source": [
    "y_train.value_counts()"
   ]
  },
  {
   "cell_type": "code",
   "execution_count": null,
   "id": "3b6ace59",
   "metadata": {},
   "outputs": [],
   "source": [
    "np.round((108/208)*100,1)"
   ]
  },
  {
   "cell_type": "code",
   "execution_count": null,
   "id": "68f0abf4",
   "metadata": {},
   "outputs": [],
   "source": [
    "y_test.value_counts()"
   ]
  },
  {
   "cell_type": "code",
   "execution_count": null,
   "id": "97b5211a",
   "metadata": {},
   "outputs": [],
   "source": [
    "np.round((22/57)*100,1)"
   ]
  },
  {
   "cell_type": "code",
   "execution_count": null,
   "id": "b1beabef",
   "metadata": {},
   "outputs": [],
   "source": [
    "knn = sklearn.neighbors.KNeighborsClassifier()\n",
    "knn.fit(X_train, y_train)"
   ]
  },
  {
   "cell_type": "code",
   "execution_count": null,
   "id": "fa2601cb",
   "metadata": {},
   "outputs": [],
   "source": [
    "y_pred_train = knn.predict(X_train)\n",
    "y_pred_test = knn.predict(X_test)\n",
    "sklearn.metrics.accuracy_score(y_train, y_pred_train)\n"
   ]
  },
  {
   "cell_type": "code",
   "execution_count": null,
   "id": "0d91a945",
   "metadata": {},
   "outputs": [],
   "source": [
    "sklearn.metrics.accuracy_score(yk_test, yk_pred_test)"
   ]
  },
  {
   "cell_type": "code",
   "execution_count": null,
   "id": "220083cc",
   "metadata": {},
   "outputs": [],
   "source": [
    "sklearn.metrics.confusion_matrix(y_test, y_pred_test)"
   ]
  },
  {
   "cell_type": "code",
   "execution_count": null,
   "id": "5eab111d",
   "metadata": {},
   "outputs": [],
   "source": [
    "y_test.value_counts()"
   ]
  },
  {
   "cell_type": "code",
   "execution_count": null,
   "id": "15357175",
   "metadata": {},
   "outputs": [],
   "source": [
    "from sklearn.metrics import confusion_matrix, ConfusionMatrixDisplay, RocCurveDisplay"
   ]
  },
  {
   "cell_type": "code",
   "execution_count": null,
   "id": "c66524d5",
   "metadata": {},
   "outputs": [],
   "source": [
    "cm = confusion_matrix(y_test, y_pred_test, labels=knn.classes_)\n",
    "disp = ConfusionMatrixDisplay(confusion_matrix=cm, display_labels=knn.classes_)\n",
    "disp.plot()\n",
    "plt.show()"
   ]
  },
  {
   "cell_type": "code",
   "execution_count": null,
   "id": "29f667a1",
   "metadata": {},
   "outputs": [],
   "source": []
  },
  {
   "cell_type": "code",
   "execution_count": null,
   "id": "fc09af00",
   "metadata": {},
   "outputs": [],
   "source": []
  }
 ],
 "metadata": {
  "kernelspec": {
   "display_name": "Python 3 (ipykernel)",
   "language": "python",
   "name": "python3"
  },
  "language_info": {
   "codemirror_mode": {
    "name": "ipython",
    "version": 3
   },
   "file_extension": ".py",
   "mimetype": "text/x-python",
   "name": "python",
   "nbconvert_exporter": "python",
   "pygments_lexer": "ipython3",
   "version": "3.10.13"
  }
 },
 "nbformat": 4,
 "nbformat_minor": 5
}
